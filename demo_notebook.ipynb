{
    "cells": [
        {
            "cell_type": "markdown",
            "metadata": {},
            "source": "### demo jupyter notebook"
        },
        {
            "cell_type": "code",
            "execution_count": 5,
            "metadata": {},
            "outputs": [
                {
                    "name": "stdout",
                    "output_type": "stream",
                    "text": "+--------+------+\n|    Date|Weight|\n+--------+------+\n|5/1/2016|   142|\n|5/2/2016|   143|\n|5/3/2016|   140|\n|5/4/2016|   141|\n|5/5/2016|   142|\n+--------+------+\nonly showing top 5 rows\n\n"
                },
                {
                    "data": {
                        "text/plain": "configurationName = os_132663db9ea347a9a708af1f2c04ae0b_configs\ncos = com.ibm.ibmos2spark.CloudObjectStorage@27ea83b6\nspark = org.apache.spark.sql.SparkSession@ffc855ef\ndfData1 = [Date: string, Weight: int]\n"
                    },
                    "metadata": {},
                    "output_type": "display_data"
                },
                {
                    "data": {
                        "text/plain": "getCredentials: ()scala.collection.mutable.HashMap[String,String]\n"
                    },
                    "metadata": {},
                    "output_type": "display_data"
                },
                {
                    "data": {
                        "text/plain": "[Date: string, Weight: int]"
                    },
                    "execution_count": 5,
                    "metadata": {},
                    "output_type": "execute_result"
                }
            ],
            "source": "// The code was removed by Watson Studio for sharing."
        }
    ],
    "metadata": {
        "kernelspec": {
            "display_name": "Scala 2.11 with Spark",
            "language": "scala",
            "name": "scala"
        },
        "language_info": {
            "codemirror_mode": "text/x-scala",
            "file_extension": ".scala",
            "mimetype": "text/x-scala",
            "name": "scala",
            "pygments_lexer": "scala",
            "version": "2.11.12"
        }
    },
    "nbformat": 4,
    "nbformat_minor": 1
}